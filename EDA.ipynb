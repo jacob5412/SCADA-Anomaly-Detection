{
 "cells": [
  {
   "cell_type": "markdown",
   "metadata": {},
   "source": [
    "# SCADA Anomaly Detection"
   ]
  },
  {
   "cell_type": "code",
   "execution_count": null,
   "metadata": {},
   "outputs": [],
   "source": [
    "import pandas as pd\n",
    "import numpy as np\n",
    "import matplotlib.pyplot as plt\n",
    "import seaborn as sns\n",
    "\n",
    "import warnings\n",
    "warnings.filterwarnings('ignore')"
   ]
  },
  {
   "cell_type": "code",
   "execution_count": null,
   "metadata": {},
   "outputs": [],
   "source": [
    "data_with_attacks = pd.read_csv('data/01_Lev_fault_Temp_corr_seed_11_vars_23.csv')"
   ]
  },
  {
   "cell_type": "markdown",
   "metadata": {},
   "source": [
    "## Cleaning Data\n",
    "\n",
    "* Fixing column names\n",
    "* Reading Time as datetime"
   ]
  },
  {
   "cell_type": "code",
   "execution_count": null,
   "metadata": {},
   "outputs": [],
   "source": [
    "cols = list(data_with_attacks.columns)\n",
    "cols.append(cols.pop(cols.index('ATTACK')))"
   ]
  },
  {
   "cell_type": "code",
   "execution_count": null,
   "metadata": {},
   "outputs": [],
   "source": [
    "data_with_attacks = data_with_attacks.loc[:,cols]"
   ]
  },
  {
   "cell_type": "code",
   "execution_count": null,
   "metadata": {},
   "outputs": [],
   "source": [
    "data = data_with_attacks[data_with_attacks.ATTACK == 0]"
   ]
  },
  {
   "cell_type": "code",
   "execution_count": null,
   "metadata": {},
   "outputs": [],
   "source": [
    "data.head(2)"
   ]
  },
  {
   "cell_type": "code",
   "execution_count": null,
   "metadata": {},
   "outputs": [],
   "source": [
    "data_with_attacks.head(2)"
   ]
  },
  {
   "cell_type": "code",
   "execution_count": null,
   "metadata": {},
   "outputs": [],
   "source": [
    "data.describe().T"
   ]
  },
  {
   "cell_type": "code",
   "execution_count": null,
   "metadata": {},
   "outputs": [],
   "source": [
    "data_with_attacks.describe().T"
   ]
  },
  {
   "cell_type": "markdown",
   "metadata": {},
   "source": [
    "## Visualizations\n",
    "\n",
    "### Data without attacks\n",
    "\n",
    "* Plots saved in the plots folder"
   ]
  },
  {
   "cell_type": "code",
   "execution_count": null,
   "metadata": {},
   "outputs": [],
   "source": [
    "fig, a = plt.subplots(nrows = data.shape[1]-2, ncols = 1, figsize = (12, 7 * data.shape[1]), dpi = 200)\n",
    "for i in range(1, data.shape[1]-1):\n",
    "    data.iloc[:,[0,i]].plot(x = 'Time', y = data.columns[i], ax = a[i-1])\n",
    "    a[i-1].grid()\n",
    "    a[i-1].set_title(data.columns[i]) \n",
    "fig.autofmt_xdate() # make space for and rotate the x-axis tick labels\n",
    "plt.suptitle('Data without attacks',fontsize=14)\n",
    "plt.tight_layout(rect=[0, 0.03, 1, 0.95])\n",
    "plt.savefig('plots/data_timeseries.pdf')\n",
    "plt.close()"
   ]
  },
  {
   "cell_type": "markdown",
   "metadata": {},
   "source": [
    "### Data with attacks"
   ]
  },
  {
   "cell_type": "code",
   "execution_count": null,
   "metadata": {},
   "outputs": [],
   "source": [
    "fig, a = plt.subplots(nrows = data_with_attacks.shape[1]-2, ncols = 1, \n",
    "                      figsize = (12, 7 * data_with_attacks.shape[1]), dpi = 200)\n",
    "for i in range(1, data_with_attacks.shape[1]-1):\n",
    "    data_with_attacks.iloc[:,[0,i]]\\\n",
    "    .plot(x = 'Time', y = data_with_attacks.columns[i], ax = a[i-1], color = 'blue', label = 'Normal')\n",
    "    to_plot = data_with_attacks.iloc[:,[0,i]][data_with_attacks['ATTACK'] == 1]\n",
    "    a[i-1].scatter(x = to_plot['Time'], y = to_plot[data_with_attacks.columns[i]], color = 'red', \n",
    "                   label = 'Attack', marker = 'x')\n",
    "    a[i-1].grid()\n",
    "    a[i-1].set_title(data.columns[i])\n",
    "    a[i-1].legend(loc=\"upper left\")\n",
    "plt.suptitle('Data with attacks',fontsize=14)\n",
    "plt.tight_layout(rect=[0, 0.03, 1, 0.95])\n",
    "plt.savefig('plots/data_with_attack_timeseries.pdf')\n",
    "plt.close()"
   ]
  },
  {
   "cell_type": "markdown",
   "metadata": {},
   "source": [
    "## Bivariate Analysis\n",
    "\n",
    "* Correlation Plot of all the continuous variables"
   ]
  },
  {
   "cell_type": "code",
   "execution_count": null,
   "metadata": {},
   "outputs": [],
   "source": [
    "plt.figure(figsize=(16, 9), dpi = 200)\n",
    "corr_plot = data_with_attacks.drop(['Time'], axis = 1).corr()\n",
    "mask = np.zeros_like(corr_plot, dtype=np.bool)\n",
    "mask[np.triu_indices_from(mask)] = True\n",
    "sns.heatmap(corr_plot,\n",
    "            square=False, \n",
    "            linewidth=.1,\n",
    "            vmin=-1,\n",
    "            vmax=1,\n",
    "            cmap='coolwarm',\n",
    "            annot=True,\n",
    "            mask = mask)\n",
    "plt.show()"
   ]
  },
  {
   "cell_type": "code",
   "execution_count": null,
   "metadata": {},
   "outputs": [],
   "source": [
    "corr_plot['ATTACK'].sort_values()"
   ]
  }
 ],
 "metadata": {
  "kernelspec": {
   "display_name": "Python 3.10.7 64-bit",
   "language": "python",
   "name": "python3"
  },
  "language_info": {
   "codemirror_mode": {
    "name": "ipython",
    "version": 3
   },
   "file_extension": ".py",
   "mimetype": "text/x-python",
   "name": "python",
   "nbconvert_exporter": "python",
   "pygments_lexer": "ipython3",
   "version": "3.10.7"
  },
  "vscode": {
   "interpreter": {
    "hash": "aee8b7b246df8f9039afb4144a1f6fd8d2ca17a180786b69acc140d282b71a49"
   }
  }
 },
 "nbformat": 4,
 "nbformat_minor": 4
}
